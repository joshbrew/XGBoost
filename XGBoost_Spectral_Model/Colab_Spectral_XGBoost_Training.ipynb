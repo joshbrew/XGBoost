{
  "cells": [
    {
      "cell_type": "markdown",
      "metadata": {
        "id": "6Rs1iCdRt2C_"
      },
      "source": [
        "## Major Dependencies\n",
        "\n",
        "This project relies on the following major dependencies:\n",
        "\n",
        "- **Python**: The primary programming language used.\n",
        "- **Libraries**:\n",
        "  - `scikit-learn`: For machine learning algorithms and data preprocessing.\n",
        "  - `xgboost`: An efficient implementation of gradient boosting framework.\n",
        "  - `numpy`: Essential for numerical operations.\n",
        "  - `matplotlib`: For plotting and visualization of data.\n",
        "  - `onnxconverter-common`: Common utilities for ONNX model conversion.\n",
        "  - `onnxmltools`: Tools for converting machine learning models to ONNX format.\n",
        "  - `skl2onnx`: Specifically for converting scikit-learn models to ONNX format.\n",
        "  - `google.colab`: Python notebook format.\n"
      ]
    },
    {
      "cell_type": "markdown",
      "metadata": {
        "id": "pLYMe_HGt2DA"
      },
      "source": [
        "## Library Installation"
      ]
    },
    {
      "cell_type": "code",
      "execution_count": null,
      "metadata": {
        "id": "FgUDTQFkyI4u"
      },
      "outputs": [],
      "source": [
        "# # Install necessary libraries for ONNX conversion\n",
        "%pip install onnxconverter-common onnxmltools skl2onnx matplotlib scikit-learn numpy xgboost google-colab"
      ]
    },
    {
      "cell_type": "markdown",
      "metadata": {
        "id": "drQglbIgt2DB"
      },
      "source": [
        "## Data Download and Extraction"
      ]
    },
    {
      "cell_type": "code",
      "execution_count": null,
      "metadata": {
        "id": "-wrqYRa1vOXg",
        "colab": {
          "base_uri": "https://localhost:8080/"
        },
        "outputId": "d3bf00ab-df5f-46fe-f1ef-b8e8f0db2b43"
      },
      "outputs": [
        {
          "output_type": "stream",
          "name": "stdout",
          "text": [
            "--2024-01-31 13:59:14--  https://storage.googleapis.com/fishazam-sample-dataset/spectrum_dataset.zip\n",
            "Resolving storage.googleapis.com (storage.googleapis.com)... 64.233.188.207, 64.233.189.207, 108.177.97.207, ...\n",
            "Connecting to storage.googleapis.com (storage.googleapis.com)|64.233.188.207|:443... connected.\n",
            "HTTP request sent, awaiting response... 200 OK\n",
            "Length: 518777 (507K) [application/zip]\n",
            "Saving to: ‘spectrum_dataset.zip’\n",
            "\n",
            "spectrum_dataset.zi 100%[===================>] 506.62K   683KB/s    in 0.7s    \n",
            "\n",
            "2024-01-31 13:59:16 (683 KB/s) - ‘spectrum_dataset.zip’ saved [518777/518777]\n",
            "\n"
          ]
        }
      ],
      "source": [
        "# # Download the dataset and unzip it\n",
        "!wget https://storage.googleapis.com/fishazam-sample-dataset/spectrum_dataset.zip"
      ]
    },
    {
      "cell_type": "code",
      "execution_count": null,
      "metadata": {
        "id": "Jl8qgvFKvZGz",
        "colab": {
          "base_uri": "https://localhost:8080/"
        },
        "outputId": "62cf101a-0db3-46cb-8ca1-e72ae9d91e61"
      },
      "outputs": [
        {
          "output_type": "stream",
          "name": "stdout",
          "text": [
            "Archive:  spectrum_dataset.zip\n",
            "   creating: spectrum_dataset/\n",
            "  inflating: spectrum_dataset/alaskancod_200wled_corrected_frozen2.csv  \n",
            "  inflating: spectrum_dataset/alaskancod_200wled_corrected_frozen.csv  \n",
            "  inflating: spectrum_dataset/alaskanhalibut_200wdaylight_frozen2.csv  \n",
            "  inflating: spectrum_dataset/alaskanhalibut_200wdaylight_frozen3.csv  \n",
            "  inflating: spectrum_dataset/alaskanhalibut_200wdaylight_frozen4.csv  \n",
            "  inflating: spectrum_dataset/alaskanhalibut_200wdaylight_frozen.csv  \n",
            "  inflating: spectrum_dataset/baseline_200wbaseline2.csv  \n",
            "  inflating: spectrum_dataset/baseline_200w_led_baseline.csv  \n",
            "  inflating: spectrum_dataset/canadarockfish_200wled_corrected_frozen2.csv  \n",
            "  inflating: spectrum_dataset/canadarockfish_200wled_corrected_frozen.csv  \n",
            "  inflating: spectrum_dataset/pacificcod_200wdaylight_frozen2.csv  \n",
            "  inflating: spectrum_dataset/pacificcod_200wdaylight_frozen3.csv  \n",
            "  inflating: spectrum_dataset/pacificcod_200wdaylight_frozen4.csv  \n",
            "  inflating: spectrum_dataset/pacificcod_200wdaylight_frozen.csv  \n",
            "  inflating: spectrum_dataset/petralesole_200wled_corrected_frozen2.csv  \n",
            "  inflating: spectrum_dataset/petralesole_200wled_corrected_frozen.csv  \n",
            "  inflating: spectrum_dataset/tilapia_200wled_corrected_frozen2.csv  \n",
            "  inflating: spectrum_dataset/tilapia_200wled_corrected_frozen.csv  \n"
          ]
        }
      ],
      "source": [
        "# # Import required libraries and define file paths\n",
        "!unzip spectrum_dataset.zip"
      ]
    },
    {
      "cell_type": "markdown",
      "metadata": {
        "id": "l5dzJPnat2DC"
      },
      "source": [
        "## Import Libraries and Setup Paths"
      ]
    },
    {
      "cell_type": "code",
      "execution_count": null,
      "metadata": {
        "id": "wECBfOBUvxp1"
      },
      "outputs": [],
      "source": [
        "# Import Path from pathlib for file path operations\n",
        "from pathlib import Path\n",
        "# Import Pipeline from sklearn for creating a ML pipeline\n",
        "from sklearn.pipeline import Pipeline\n",
        "# Import StandardScaler for feature scaling\n",
        "from sklearn.preprocessing import StandardScaler\n",
        "# Import XGBClassifier for the classification model\n",
        "from xgboost import XGBClassifier\n",
        "# Import numpy for numerical operations\n",
        "import numpy as np  # Import the required Python module\n",
        "# Import pyplot from matplotlib for plotting\n",
        "from matplotlib import pyplot as plt\n",
        "# Import sklearn metrics for model evaluation\n",
        "from sklearn.metrics import confusion_matrix, classification_report, ConfusionMatrixDisplay\n",
        "# Import files from google.colab for file operations\n",
        "from google.colab import files"
      ]
    },
    {
      "cell_type": "markdown",
      "metadata": {
        "id": "kKq7iKpNt2DC"
      },
      "source": [
        "## Data Preparation\n",
        "\n",
        "Notice that path for training and testing is the same"
      ]
    },
    {
      "cell_type": "code",
      "execution_count": null,
      "metadata": {
        "id": "LXUkarPFvk_m"
      },
      "outputs": [],
      "source": [
        "TRAIN_PATH = Path(\"/content/spectrum_dataset\")\n",
        "TEST_PATH = Path(\"/content/spectrum_dataset\")\n",
        "\n",
        "LABELS = ['alaskacod', 'alaskanhalibut', 'other', 'pacificcod', 'petralesole', 'rockfish','tilapia']\n",
        "FLAT_SIZE=3200\n"
      ]
    },
    {
      "cell_type": "markdown",
      "metadata": {
        "id": "biFVDPzDt2DC"
      },
      "source": [
        "## Model Pipeline Creation"
      ]
    },
    {
      "cell_type": "code",
      "execution_count": null,
      "metadata": {
        "id": "KT9TbVAuv6RQ"
      },
      "outputs": [],
      "source": [
        "# Define a function to load, resize, and flatten image data, and prepare labels\n",
        "def load_data(dataset_path: Path) -> (list, list, dict):\n",
        "    data = []\n",
        "    labels = []\n",
        "    label_dict = {}\n",
        "    for f in sorted(dataset_path.glob(\"**/*.csv\")):\n",
        "        if f.is_dir():\n",
        "            continue\n",
        "        current = np.genfromtxt(f, delimiter=',')\n",
        "        data.append(current[1:].flatten())\n",
        "\n",
        "        lbl = f.stem.split(\"_\")[0]\n",
        "        if lbl not in label_dict:\n",
        "            label_dict[lbl] = len(label_dict)\n",
        "\n",
        "        labels.append(label_dict[lbl])\n",
        "\n",
        "    return data, labels, label_dict"
      ]
    },
    {
      "cell_type": "markdown",
      "metadata": {
        "id": "buM3I-D7t2DC"
      },
      "source": [
        "## Load Train and Test Data"
      ]
    },
    {
      "cell_type": "code",
      "execution_count": null,
      "metadata": {
        "id": "_vh-fDoLv78z"
      },
      "outputs": [],
      "source": [
        "X_train, y_train, train_labels = load_data(TRAIN_PATH)\n",
        "X_test, y_test, test_labels = load_data(TEST_PATH)"
      ]
    },
    {
      "cell_type": "markdown",
      "metadata": {
        "id": "9dVlZPPUt2DD"
      },
      "source": [
        "## Model Prediction and Evaluation"
      ]
    },
    {
      "cell_type": "code",
      "execution_count": null,
      "metadata": {
        "id": "Bx_R6BW8wOUF"
      },
      "outputs": [],
      "source": [
        "# Create a pipeline for data preprocessing and model training\n",
        "pipe = Pipeline([\n",
        "        # The first step in the pipeline: Standardize features by removing the mean and scaling to unit variance\n",
        "        (\"scaler\", StandardScaler()),\n",
        "        # The second step in the pipeline: Train a classifier using the XGBoost algorithm\n",
        "        # with specified parameters (1 estimator and verbosity level 2)\n",
        "        # (\"pca\", PCA()),  # Add optional PCA decomposition\n",
        "        (\"xgb\", XGBClassifier(n_estimators=3, enable_categorical=True, verbosity=2))\n",
        "    ])"
      ]
    },
    {
      "cell_type": "code",
      "execution_count": null,
      "metadata": {
        "colab": {
          "base_uri": "https://localhost:8080/",
          "height": 126
        },
        "id": "fa8dYLUJwSvh",
        "outputId": "42f8ebdf-0a5b-48f5-e4d9-30ec416fb644"
      },
      "outputs": [
        {
          "output_type": "execute_result",
          "data": {
            "text/plain": [
              "Pipeline(steps=[('scaler', StandardScaler()),\n",
              "                ('xgb',\n",
              "                 XGBClassifier(base_score=None, booster=None, callbacks=None,\n",
              "                               colsample_bylevel=None, colsample_bynode=None,\n",
              "                               colsample_bytree=None, device=None,\n",
              "                               early_stopping_rounds=None,\n",
              "                               enable_categorical=True, eval_metric=None,\n",
              "                               feature_types=None, gamma=None, grow_policy=None,\n",
              "                               importance_type=None,\n",
              "                               interaction_constraints=None, learning_rate=None,\n",
              "                               max_bin=None, max_cat_threshold=None,\n",
              "                               max_cat_to_onehot=None, max_delta_step=None,\n",
              "                               max_depth=None, max_leaves=None,\n",
              "                               min_child_weight=None, missing=nan,\n",
              "                               monotone_constraints=None, multi_strategy=None,\n",
              "                               n_estimators=3, n_jobs=None,\n",
              "                               num_parallel_tree=None,\n",
              "                               objective='multi:softprob', ...))])"
            ],
            "text/html": [
              "<style>#sk-container-id-1 {color: black;background-color: white;}#sk-container-id-1 pre{padding: 0;}#sk-container-id-1 div.sk-toggleable {background-color: white;}#sk-container-id-1 label.sk-toggleable__label {cursor: pointer;display: block;width: 100%;margin-bottom: 0;padding: 0.3em;box-sizing: border-box;text-align: center;}#sk-container-id-1 label.sk-toggleable__label-arrow:before {content: \"▸\";float: left;margin-right: 0.25em;color: #696969;}#sk-container-id-1 label.sk-toggleable__label-arrow:hover:before {color: black;}#sk-container-id-1 div.sk-estimator:hover label.sk-toggleable__label-arrow:before {color: black;}#sk-container-id-1 div.sk-toggleable__content {max-height: 0;max-width: 0;overflow: hidden;text-align: left;background-color: #f0f8ff;}#sk-container-id-1 div.sk-toggleable__content pre {margin: 0.2em;color: black;border-radius: 0.25em;background-color: #f0f8ff;}#sk-container-id-1 input.sk-toggleable__control:checked~div.sk-toggleable__content {max-height: 200px;max-width: 100%;overflow: auto;}#sk-container-id-1 input.sk-toggleable__control:checked~label.sk-toggleable__label-arrow:before {content: \"▾\";}#sk-container-id-1 div.sk-estimator input.sk-toggleable__control:checked~label.sk-toggleable__label {background-color: #d4ebff;}#sk-container-id-1 div.sk-label input.sk-toggleable__control:checked~label.sk-toggleable__label {background-color: #d4ebff;}#sk-container-id-1 input.sk-hidden--visually {border: 0;clip: rect(1px 1px 1px 1px);clip: rect(1px, 1px, 1px, 1px);height: 1px;margin: -1px;overflow: hidden;padding: 0;position: absolute;width: 1px;}#sk-container-id-1 div.sk-estimator {font-family: monospace;background-color: #f0f8ff;border: 1px dotted black;border-radius: 0.25em;box-sizing: border-box;margin-bottom: 0.5em;}#sk-container-id-1 div.sk-estimator:hover {background-color: #d4ebff;}#sk-container-id-1 div.sk-parallel-item::after {content: \"\";width: 100%;border-bottom: 1px solid gray;flex-grow: 1;}#sk-container-id-1 div.sk-label:hover label.sk-toggleable__label {background-color: #d4ebff;}#sk-container-id-1 div.sk-serial::before {content: \"\";position: absolute;border-left: 1px solid gray;box-sizing: border-box;top: 0;bottom: 0;left: 50%;z-index: 0;}#sk-container-id-1 div.sk-serial {display: flex;flex-direction: column;align-items: center;background-color: white;padding-right: 0.2em;padding-left: 0.2em;position: relative;}#sk-container-id-1 div.sk-item {position: relative;z-index: 1;}#sk-container-id-1 div.sk-parallel {display: flex;align-items: stretch;justify-content: center;background-color: white;position: relative;}#sk-container-id-1 div.sk-item::before, #sk-container-id-1 div.sk-parallel-item::before {content: \"\";position: absolute;border-left: 1px solid gray;box-sizing: border-box;top: 0;bottom: 0;left: 50%;z-index: -1;}#sk-container-id-1 div.sk-parallel-item {display: flex;flex-direction: column;z-index: 1;position: relative;background-color: white;}#sk-container-id-1 div.sk-parallel-item:first-child::after {align-self: flex-end;width: 50%;}#sk-container-id-1 div.sk-parallel-item:last-child::after {align-self: flex-start;width: 50%;}#sk-container-id-1 div.sk-parallel-item:only-child::after {width: 0;}#sk-container-id-1 div.sk-dashed-wrapped {border: 1px dashed gray;margin: 0 0.4em 0.5em 0.4em;box-sizing: border-box;padding-bottom: 0.4em;background-color: white;}#sk-container-id-1 div.sk-label label {font-family: monospace;font-weight: bold;display: inline-block;line-height: 1.2em;}#sk-container-id-1 div.sk-label-container {text-align: center;}#sk-container-id-1 div.sk-container {/* jupyter's `normalize.less` sets `[hidden] { display: none; }` but bootstrap.min.css set `[hidden] { display: none !important; }` so we also need the `!important` here to be able to override the default hidden behavior on the sphinx rendered scikit-learn.org. See: https://github.com/scikit-learn/scikit-learn/issues/21755 */display: inline-block !important;position: relative;}#sk-container-id-1 div.sk-text-repr-fallback {display: none;}</style><div id=\"sk-container-id-1\" class=\"sk-top-container\"><div class=\"sk-text-repr-fallback\"><pre>Pipeline(steps=[(&#x27;scaler&#x27;, StandardScaler()),\n",
              "                (&#x27;xgb&#x27;,\n",
              "                 XGBClassifier(base_score=None, booster=None, callbacks=None,\n",
              "                               colsample_bylevel=None, colsample_bynode=None,\n",
              "                               colsample_bytree=None, device=None,\n",
              "                               early_stopping_rounds=None,\n",
              "                               enable_categorical=True, eval_metric=None,\n",
              "                               feature_types=None, gamma=None, grow_policy=None,\n",
              "                               importance_type=None,\n",
              "                               interaction_constraints=None, learning_rate=None,\n",
              "                               max_bin=None, max_cat_threshold=None,\n",
              "                               max_cat_to_onehot=None, max_delta_step=None,\n",
              "                               max_depth=None, max_leaves=None,\n",
              "                               min_child_weight=None, missing=nan,\n",
              "                               monotone_constraints=None, multi_strategy=None,\n",
              "                               n_estimators=3, n_jobs=None,\n",
              "                               num_parallel_tree=None,\n",
              "                               objective=&#x27;multi:softprob&#x27;, ...))])</pre><b>In a Jupyter environment, please rerun this cell to show the HTML representation or trust the notebook. <br />On GitHub, the HTML representation is unable to render, please try loading this page with nbviewer.org.</b></div><div class=\"sk-container\" hidden><div class=\"sk-item sk-dashed-wrapped\"><div class=\"sk-label-container\"><div class=\"sk-label sk-toggleable\"><input class=\"sk-toggleable__control sk-hidden--visually\" id=\"sk-estimator-id-1\" type=\"checkbox\" ><label for=\"sk-estimator-id-1\" class=\"sk-toggleable__label sk-toggleable__label-arrow\">Pipeline</label><div class=\"sk-toggleable__content\"><pre>Pipeline(steps=[(&#x27;scaler&#x27;, StandardScaler()),\n",
              "                (&#x27;xgb&#x27;,\n",
              "                 XGBClassifier(base_score=None, booster=None, callbacks=None,\n",
              "                               colsample_bylevel=None, colsample_bynode=None,\n",
              "                               colsample_bytree=None, device=None,\n",
              "                               early_stopping_rounds=None,\n",
              "                               enable_categorical=True, eval_metric=None,\n",
              "                               feature_types=None, gamma=None, grow_policy=None,\n",
              "                               importance_type=None,\n",
              "                               interaction_constraints=None, learning_rate=None,\n",
              "                               max_bin=None, max_cat_threshold=None,\n",
              "                               max_cat_to_onehot=None, max_delta_step=None,\n",
              "                               max_depth=None, max_leaves=None,\n",
              "                               min_child_weight=None, missing=nan,\n",
              "                               monotone_constraints=None, multi_strategy=None,\n",
              "                               n_estimators=3, n_jobs=None,\n",
              "                               num_parallel_tree=None,\n",
              "                               objective=&#x27;multi:softprob&#x27;, ...))])</pre></div></div></div><div class=\"sk-serial\"><div class=\"sk-item\"><div class=\"sk-estimator sk-toggleable\"><input class=\"sk-toggleable__control sk-hidden--visually\" id=\"sk-estimator-id-2\" type=\"checkbox\" ><label for=\"sk-estimator-id-2\" class=\"sk-toggleable__label sk-toggleable__label-arrow\">StandardScaler</label><div class=\"sk-toggleable__content\"><pre>StandardScaler()</pre></div></div></div><div class=\"sk-item\"><div class=\"sk-estimator sk-toggleable\"><input class=\"sk-toggleable__control sk-hidden--visually\" id=\"sk-estimator-id-3\" type=\"checkbox\" ><label for=\"sk-estimator-id-3\" class=\"sk-toggleable__label sk-toggleable__label-arrow\">XGBClassifier</label><div class=\"sk-toggleable__content\"><pre>XGBClassifier(base_score=None, booster=None, callbacks=None,\n",
              "              colsample_bylevel=None, colsample_bynode=None,\n",
              "              colsample_bytree=None, device=None, early_stopping_rounds=None,\n",
              "              enable_categorical=True, eval_metric=None, feature_types=None,\n",
              "              gamma=None, grow_policy=None, importance_type=None,\n",
              "              interaction_constraints=None, learning_rate=None, max_bin=None,\n",
              "              max_cat_threshold=None, max_cat_to_onehot=None,\n",
              "              max_delta_step=None, max_depth=None, max_leaves=None,\n",
              "              min_child_weight=None, missing=nan, monotone_constraints=None,\n",
              "              multi_strategy=None, n_estimators=3, n_jobs=None,\n",
              "              num_parallel_tree=None, objective=&#x27;multi:softprob&#x27;, ...)</pre></div></div></div></div></div></div></div>"
            ]
          },
          "metadata": {},
          "execution_count": 10
        }
      ],
      "source": [
        "pipe.fit(X_train, y_train)   # Train on labeled data"
      ]
    },
    {
      "cell_type": "code",
      "execution_count": null,
      "metadata": {
        "id": "NySsZ4nMwUpe"
      },
      "outputs": [],
      "source": [
        "preds = pipe.predict(X_test)  # Predict unlabeled data"
      ]
    },
    {
      "cell_type": "code",
      "execution_count": null,
      "metadata": {
        "colab": {
          "base_uri": "https://localhost:8080/",
          "height": 758
        },
        "id": "kLlVaP52wmdA",
        "outputId": "d0a6c257-49fd-41d6-9633-f906f71a8c47"
      },
      "outputs": [
        {
          "output_type": "stream",
          "name": "stdout",
          "text": [
            "                precision    recall  f1-score   support\n",
            "\n",
            "    alaskancod       1.00      1.00      1.00         2\n",
            "alaskanhalibut       1.00      1.00      1.00         4\n",
            "      baseline       1.00      1.00      1.00         2\n",
            "canadarockfish       1.00      1.00      1.00         2\n",
            "    pacificcod       1.00      1.00      1.00         4\n",
            "   petralesole       1.00      1.00      1.00         2\n",
            "       tilapia       1.00      1.00      1.00         2\n",
            "\n",
            "      accuracy                           1.00        18\n",
            "     macro avg       1.00      1.00      1.00        18\n",
            "  weighted avg       1.00      1.00      1.00        18\n",
            "\n"
          ]
        },
        {
          "output_type": "display_data",
          "data": {
            "text/plain": [
              "<Figure size 640x480 with 2 Axes>"
            ],
            "image/png": "[encoded data removed]"
          },
          "metadata": {}
        }
      ],
      "source": [
        "cm = confusion_matrix(y_test, preds)  # a specific table layout that allows visualization of the performance of an algorithm\n",
        "print(classification_report(y_test, preds, target_names=test_labels))\n",
        "disp = ConfusionMatrixDisplay(cm, display_labels=test_labels)\n",
        "disp.plot(xticks_rotation=\"vertical\")\n",
        "plt.tight_layout()\n",
        "plt.show()  # Plot predictions, a good result should have a diagonal from top left to bottom right"
      ]
    },
    {
      "cell_type": "markdown",
      "metadata": {
        "id": "aahnaWkbt2DD"
      },
      "source": [
        "Model accuracy defined by number of correct guesses vs incorrect guesses."
      ]
    },
    {
      "cell_type": "markdown",
      "metadata": {
        "id": "6DrY9W_Qt2DD"
      },
      "source": [
        "## Convert Trained Model to ONNX for Applications."
      ]
    },
    {
      "cell_type": "markdown",
      "metadata": {
        "id": "8LI4LMxKt2DD"
      },
      "source": [
        "ONNX lets us package the trained python models optimized for runtime applications (e.g. web applications)"
      ]
    },
    {
      "cell_type": "code",
      "execution_count": null,
      "metadata": {
        "id": "-jA8wFm4xwAF"
      },
      "outputs": [],
      "source": [
        "from onnxconverter_common import FloatTensorType\n",
        "from onnxmltools.convert.xgboost.operator_converters.XGBoost import convert_xgboost\n",
        "from skl2onnx import update_registered_converter, convert_sklearn\n",
        "from skl2onnx.common.shape_calculator import calculate_linear_classifier_output_shapes"
      ]
    },
    {
      "cell_type": "code",
      "execution_count": null,
      "metadata": {
        "id": "0yDBzgnNxl3s"
      },
      "outputs": [],
      "source": [
        "# Define options for the converter\n",
        "opts = {\n",
        "    \"nocl\": [True, False],  # Option for 'nocl': Indicates whether to use 'no class labels' in the output\n",
        "    \"zipmap\": [True, False, \"columns\"],  # Option for 'zipmap': Determines how to output class probabilities,\n",
        "                                         # either as a dictionary (True), array (False), or as columns (\"columns\")\n",
        "    \"output_class_labels\": [True, False]  # Option for 'output_class_labels': Indicates whether to output class labels\n",
        "}\n",
        "\n",
        "# Update or register a new converter for XGBClassifier with the ONNX converter\n",
        "update_registered_converter(\n",
        "    XGBClassifier,  # The scikit-learn classifier class that we want to convert to ONNX\n",
        "    \"XGBoostXGBClassifier\",  # The name for the converter (as registered in ONNX)\n",
        "    calculate_linear_classifier_output_shapes,  # Function to calculate the output shape of the converted model\n",
        "    convert_xgboost,  # Function that defines how to convert the classifier to an ONNX model\n",
        "    options=opts,  # Passing the options defined above to customize the conversion process\n",
        ")"
      ]
    },
    {
      "cell_type": "code",
      "execution_count": null,
      "metadata": {
        "id": "hcLEEBAkyX4h"
      },
      "outputs": [],
      "source": [
        "# Convert the scikit-learn pipeline to ONNX format\n",
        "model_onnx = convert_sklearn(\n",
        "    pipe,  # The scikit-learn model or pipeline to convert, here 'pipe' refers to a predefined pipeline\n",
        "    \"fishazam-xgboost-classifier\",  # Name for the ONNX model\n",
        "    [(\"input\", FloatTensorType([1, FLAT_SIZE]))],  # Define the model input name and type\n",
        "    # 'input' is the name of the input tensor,\n",
        "    # FloatTensorType([1, FLAT_IMG_SIZE]) specifies the data type and shape of the input tensor\n",
        "    target_opset={\"\": 12, \"ai.onnx.ml\": 2},  # Specify the target ONNX operator set versions\n",
        "    # \"\" refers to the default ONNX domain, with version 12\n",
        "    # \"ai.onnx.ml\" refers to the machine learning domain, with version 2\n",
        "    options={id(pipe): {\"zipmap\": False, \"output_class_labels\": False, \"nocl\": True}}\n",
        "    # Set conversion options for the pipeline\n",
        "    # \"zipmap\": False - Do not convert class probabilities to a dictionary format\n",
        "    # \"output_class_labels\": False - Do not output the class labels\n",
        "    # \"nocl\": True - Indicate that there are no class labels in the output\n",
        ")"
      ]
    },
    {
      "cell_type": "code",
      "execution_count": null,
      "metadata": {
        "colab": {
          "base_uri": "https://localhost:8080/",
          "height": 17
        },
        "id": "Jzp-Z28HyrBu",
        "outputId": "4fff104f-6b53-4ded-d914-3f637c31f2cb"
      },
      "outputs": [
        {
          "output_type": "display_data",
          "data": {
            "text/plain": [
              "<IPython.core.display.Javascript object>"
            ],
            "application/javascript": [
              "\n",
              "    async function download(id, filename, size) {\n",
              "      if (!google.colab.kernel.accessAllowed) {\n",
              "        return;\n",
              "      }\n",
              "      const div = document.createElement('div');\n",
              "      const label = document.createElement('label');\n",
              "      label.textContent = `Downloading \"${filename}\": `;\n",
              "      div.appendChild(label);\n",
              "      const progress = document.createElement('progress');\n",
              "      progress.max = size;\n",
              "      div.appendChild(progress);\n",
              "      document.body.appendChild(div);\n",
              "\n",
              "      const buffers = [];\n",
              "      let downloaded = 0;\n",
              "\n",
              "      const channel = await google.colab.kernel.comms.open(id);\n",
              "      // Send a message to notify the kernel that we're ready.\n",
              "      channel.send({})\n",
              "\n",
              "      for await (const message of channel.messages) {\n",
              "        // Send a message to notify the kernel that we're ready.\n",
              "        channel.send({})\n",
              "        if (message.buffers) {\n",
              "          for (const buffer of message.buffers) {\n",
              "            buffers.push(buffer);\n",
              "            downloaded += buffer.byteLength;\n",
              "            progress.value = downloaded;\n",
              "          }\n",
              "        }\n",
              "      }\n",
              "      const blob = new Blob(buffers, {type: 'application/binary'});\n",
              "      const a = document.createElement('a');\n",
              "      a.href = window.URL.createObjectURL(blob);\n",
              "      a.download = filename;\n",
              "      div.appendChild(a);\n",
              "      a.click();\n",
              "      div.remove();\n",
              "    }\n",
              "  "
            ]
          },
          "metadata": {}
        },
        {
          "output_type": "display_data",
          "data": {
            "text/plain": [
              "<IPython.core.display.Javascript object>"
            ],
            "application/javascript": [
              "download(\"download_6560f834-110a-4508-bb09-9c03b8107ad2\", \"fishazam-xgboost-classifier-spectrum.onnx\", 34765)"
            ]
          },
          "metadata": {}
        }
      ],
      "source": [
        "with open(\"fishazam-xgboost-classifier-spectrum.onnx\", \"wb\") as f:\n",
        "    f.write(model_onnx.SerializeToString())\n",
        "\n",
        "files.download(\"fishazam-xgboost-classifier-spectrum.onnx\")  # Save the trained model compilation."
      ]
    },
    {
      "cell_type": "markdown",
      "metadata": {
        "id": "5mVSZSsit2DE"
      },
      "source": [
        "Use [https://netron.app/](https://netron.app/) to evaluate the ONNX outputs. You need to format i/o into tensors with specific buffer types which are limited to:\n",
        "\n",
        "- bool\n",
        "- float16\n",
        "- float32\n",
        "- float64\n",
        "- int16\n",
        "- int32\n",
        "- int8\n",
        "- string\n",
        "- uint16\n",
        "- uint32\n",
        "- uint64\n",
        "- uint8"
      ]
    },
    {
      "cell_type": "markdown",
      "source": [
        "# Model Inference using ONNX"
      ],
      "metadata": {
        "id": "HKhuFGvZutVN"
      }
    },
    {
      "cell_type": "markdown",
      "source": [
        "## Install dependencies"
      ],
      "metadata": {
        "id": "LphQpwA0vUOt"
      }
    },
    {
      "cell_type": "code",
      "source": [
        "%pip install numpy onnxruntime"
      ],
      "metadata": {
        "id": "FgRLAjXEvXd5",
        "colab": {
          "base_uri": "https://localhost:8080/"
        },
        "outputId": "b76a8251-9059-4763-a29e-64e0ddbf5a22"
      },
      "execution_count": null,
      "outputs": [
        {
          "output_type": "stream",
          "name": "stdout",
          "text": [
            "Requirement already satisfied: numpy in /usr/local/lib/python3.10/dist-packages (1.23.5)\n",
            "Collecting onnxruntime\n",
            "  Downloading onnxruntime-1.16.3-cp310-cp310-manylinux_2_17_x86_64.manylinux2014_x86_64.whl (6.4 MB)\n",
            "\u001b[2K     \u001b[90m━━━━━━━━━━━━━━━━━━━━━━━━━━━━━━━━━━━━━━━━\u001b[0m \u001b[32m6.4/6.4 MB\u001b[0m \u001b[31m30.2 MB/s\u001b[0m eta \u001b[36m0:00:00\u001b[0m\n",
            "\u001b[?25hCollecting coloredlogs (from onnxruntime)\n",
            "  Downloading coloredlogs-15.0.1-py2.py3-none-any.whl (46 kB)\n",
            "\u001b[2K     \u001b[90m━━━━━━━━━━━━━━━━━━━━━━━━━━━━━━━━━━━━━━━━\u001b[0m \u001b[32m46.0/46.0 kB\u001b[0m \u001b[31m4.5 MB/s\u001b[0m eta \u001b[36m0:00:00\u001b[0m\n",
            "\u001b[?25hRequirement already satisfied: flatbuffers in /usr/local/lib/python3.10/dist-packages (from onnxruntime) (23.5.26)\n",
            "Requirement already satisfied: packaging in /usr/local/lib/python3.10/dist-packages (from onnxruntime) (23.2)\n",
            "Requirement already satisfied: protobuf in /usr/local/lib/python3.10/dist-packages (from onnxruntime) (3.20.2)\n",
            "Requirement already satisfied: sympy in /usr/local/lib/python3.10/dist-packages (from onnxruntime) (1.12)\n",
            "Collecting humanfriendly>=9.1 (from coloredlogs->onnxruntime)\n",
            "  Downloading humanfriendly-10.0-py2.py3-none-any.whl (86 kB)\n",
            "\u001b[2K     \u001b[90m━━━━━━━━━━━━━━━━━━━━━━━━━━━━━━━━━━━━━━━━\u001b[0m \u001b[32m86.8/86.8 kB\u001b[0m \u001b[31m8.6 MB/s\u001b[0m eta \u001b[36m0:00:00\u001b[0m\n",
            "\u001b[?25hRequirement already satisfied: mpmath>=0.19 in /usr/local/lib/python3.10/dist-packages (from sympy->onnxruntime) (1.3.0)\n",
            "Installing collected packages: humanfriendly, coloredlogs, onnxruntime\n",
            "Successfully installed coloredlogs-15.0.1 humanfriendly-10.0 onnxruntime-1.16.3\n"
          ]
        }
      ]
    },
    {
      "cell_type": "markdown",
      "source": [
        "## Import packages"
      ],
      "metadata": {
        "id": "Ek639TNsvmkw"
      }
    },
    {
      "cell_type": "code",
      "source": [
        "# Import numpy for numerical operations\n",
        "import numpy as np\n",
        "# Import ONNX runtime to run the inference\n",
        "import onnxruntime as rt"
      ],
      "metadata": {
        "id": "3anqzysnu2Aw"
      },
      "execution_count": null,
      "outputs": []
    },
    {
      "cell_type": "markdown",
      "source": [
        "## Run inference"
      ],
      "metadata": {
        "id": "8T72qn7zvpto"
      }
    },
    {
      "cell_type": "markdown",
      "source": [
        "### Load model"
      ],
      "metadata": {
        "id": "8EjA-Ih0xmjy"
      }
    },
    {
      "cell_type": "code",
      "source": [
        "# Load model in a session from file\n",
        "# sess = rt.InferenceSession(\"/content/fishazam-xgboost-classifier-spectrum.onnx\", providers=[\"CPUExecutionProvider\"])\n",
        "# Or from bytes\n",
        "sess = rt.InferenceSession(model_onnx.SerializeToString(), providers=[\"CPUExecutionProvider\"])\n"
      ],
      "metadata": {
        "id": "HGvQXKPXvrnH"
      },
      "execution_count": null,
      "outputs": []
    },
    {
      "cell_type": "markdown",
      "source": [
        "### Load spectrum data"
      ],
      "metadata": {
        "id": "zBb33-8ZxnuP"
      }
    },
    {
      "cell_type": "code",
      "source": [
        "data = np.genfromtxt(\"/content/spectrum_dataset/alaskanhalibut_200wdaylight_frozen.csv\", delimiter=',')\n",
        "\n",
        "# Flatten image and add one axis representing one image in batch, skip header\n",
        "flat = data[1:].flatten()\n",
        "flat = flat[np.newaxis, ...]"
      ],
      "metadata": {
        "id": "RYiNFlpxxl1o"
      },
      "execution_count": null,
      "outputs": []
    },
    {
      "cell_type": "markdown",
      "source": [
        "### Predict"
      ],
      "metadata": {
        "id": "81SIU-eTx_Qh"
      }
    },
    {
      "cell_type": "code",
      "source": [
        "pred_onx = sess.run(None, {\"input\": flat.astype(np.float32)})\n",
        "print(\"predict\", pred_onx[0]) # 1 is alaskanhalibut\n",
        "print(\"predict_proba\", pred_onx[1][:1]) # Print predicted probabilities for all classes"
      ],
      "metadata": {
        "colab": {
          "base_uri": "https://localhost:8080/"
        },
        "id": "ydwxiOwJx-8f",
        "outputId": "d0b12939-8e86-4958-ca91-e38f13d6bb72"
      },
      "execution_count": null,
      "outputs": [
        {
          "output_type": "stream",
          "name": "stdout",
          "text": [
            "predict [1]\n",
            "predict_proba [[0.08574136 0.36749336 0.08583967 0.1182318  0.14002253 0.08587299\n",
            "  0.11679839]]\n"
          ]
        }
      ]
    }
  ],
  "metadata": {
    "colab": {
      "provenance": []
    },
    "kernelspec": {
      "display_name": "Python 3 (ipykernel)",
      "language": "python",
      "name": "python3"
    },
    "language_info": {
      "codemirror_mode": {
        "name": "ipython",
        "version": 3
      },
      "file_extension": ".py",
      "mimetype": "text/x-python",
      "name": "python",
      "nbconvert_exporter": "python",
      "pygments_lexer": "ipython3",
      "version": "3.11.0"
    }
  },
  "nbformat": 4,
  "nbformat_minor": 0
}
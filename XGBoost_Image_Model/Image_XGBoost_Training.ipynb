{
 "cells": [
  {
   "cell_type": "markdown",
   "id": "f8bbba43",
   "metadata": {},
   "source": [
    "## Project Installation\n",
    "\n",
    "This project relies on the following major dependencies:\n",
    "\n",
    "- [**Python**](https://www.python.org/downloads/): The primary programming language used. We're using the latest Python3\n",
    "- [**Jupyter Notebook**](https://jupyter.org/install): Handles the .ipynb format file execution.\n",
    "- [**VSCode**](https://code.visualstudio.com/): Code editor and simple notebook environment.\n",
    "- **Libraries**: \n",
    "  - `opencv-python`: For image processing and computer vision tasks.\n",
    "  - `scikit-learn`: For machine learning algorithms and data preprocessing.\n",
    "  - `xgboost`: An efficient implementation of gradient boosting framework.\n",
    "  - `numpy`: Essential for numerical operations.\n",
    "  - `matplotlib`: For plotting and visualization of data.\n",
    "  - `onnxconverter-common`: Common utilities for ONNX model conversion.\n",
    "  - `onnxmltools`: Tools for converting machine learning models to ONNX format.\n",
    "  - `skl2onnx`: Specifically for converting scikit-learn models to ONNX format.\n",
    "  - `google.colab`: Google Colaboratory ONLY - Python notebook format.\n",
    "\n",
    "Easy Jupyter Notebook installation (with Python3 already installed):\n",
    "- Open this file in [VSCode](https://code.visualstudio.com/) and use extensions (VSCode will prompt you) to configure and run the python and jupyter env."
   ]
  },
  {
   "cell_type": "markdown",
   "metadata": {},
   "source": [
    "### Install Dependencies:\n",
    "\n",
    "#### In your command prompt with Python 3 installed, type:\n",
    "`pip install -r requirements.txt`"
   ]
  },
  {
   "cell_type": "markdown",
   "id": "c3bd3a2d",
   "metadata": {},
   "source": [
    "## Data Download and Extraction:"
   ]
  },
  {
   "cell_type": "markdown",
   "metadata": {
    "colab": {
     "base_uri": "https://localhost:8080/"
    },
    "id": "-wrqYRa1vOXg",
    "outputId": "9dbe272b-edaa-44ee-9c32-31ed971f7dcb"
   },
   "source": [
    "### Download the dataset and unzip it (linux example calls)\n",
    "`wget https://storage.googleapis.com/fishazam-sample-dataset/fillet_dataset_small.zip`\n",
    "\n",
    "`unzip fillet_dataset_small.zip -d ./content`"
   ]
  },
  {
   "cell_type": "markdown",
   "metadata": {},
   "source": [
    "# Run the notebook:"
   ]
  },
  {
   "cell_type": "markdown",
   "id": "a861b452",
   "metadata": {},
   "source": [
    "### Import Libraries"
   ]
  },
  {
   "cell_type": "code",
   "execution_count": 43,
   "metadata": {
    "id": "wECBfOBUvxp1"
   },
   "outputs": [],
   "source": [
    "# Import Path from pathlib for file path operations  \n",
    "from pathlib import Path  \n",
    "# Import OpenCV for image processing \n",
    "import cv2\n",
    "# Import Pipeline from sklearn for creating a ML pipeline  \n",
    "from sklearn.pipeline import Pipeline  \n",
    "# Import StandardScaler for feature scaling  \n",
    "from sklearn.preprocessing import StandardScaler  \n",
    "# Import XGBClassifier for the classification model  \n",
    "from xgboost import XGBClassifier  \n",
    "# Import numpy for numerical operations  \n",
    "import numpy as np  # Import the required Python module\n",
    "# Import pyplot from matplotlib for plotting  \n",
    "from matplotlib import pyplot as plt  \n",
    "# Import sklearn metrics for model evaluation  \n",
    "from sklearn.metrics import confusion_matrix, classification_report, ConfusionMatrixDisplay  \n",
    "# Import files from google.colab for file operations  \n",
    "#from google.colab import files  "
   ]
  },
  {
   "cell_type": "markdown",
   "id": "74def897",
   "metadata": {},
   "source": [
    "### Set Data Paths\n",
    "Training and Test data are folders, Labels are subfolders."
   ]
  },
  {
   "cell_type": "code",
   "execution_count": 44,
   "metadata": {
    "id": "LXUkarPFvk_m"
   },
   "outputs": [],
   "source": [
    "TRAIN_PATH = Path(\"./content/fillet_dataset_small/training\")  # Input Training image data (labeled)\n",
    "TEST_PATH = Path(\"./content/fillet_dataset_small/testing\")    # Input Test image data (labeled)\n",
    "\n",
    "LABELS = ['alaskacod', 'alaskanhalibut', 'other', 'pacificcod', 'petralesole', 'rockfish','tilapia']  # Subfolder names used as labels\n",
    "IMG_SIZE = (512, 512) # (128, 128) # Change what output resolution to use for image files. Colab maxes out at 128x128 on the free version.\n",
    "FLAT_IMG_SIZE = IMG_SIZE[0] * IMG_SIZE[1] * 3  "
   ]
  },
  {
   "cell_type": "markdown",
   "id": "76c6a167",
   "metadata": {},
   "source": [
    "### Model Pipeline Creation"
   ]
  },
  {
   "cell_type": "code",
   "execution_count": 45,
   "metadata": {
    "id": "KT9TbVAuv6RQ"
   },
   "outputs": [],
   "source": [
    "def load_data(dataset_path: Path, imgsize: (int, int)) -> (list, list, dict):\n",
    "    data = []\n",
    "    labels = []\n",
    "    label_dict = {}\n",
    "    # Iterate through all files in the dataset directory, sorted in order\n",
    "    for f in sorted(dataset_path.glob(\"**/*\")):  \n",
    "        # Check if the current file is a directory\n",
    "        if f.is_dir():  \n",
    "            # Skip the rest of the loop for directories\n",
    "            continue  \n",
    "        # Extract the label (category) name from the directory name containing the file\n",
    "        lbl = f.parent.name  \n",
    "        # If the label is not already in the label dictionary, add it with a unique integer\n",
    "        if lbl not in label_dict:  \n",
    "            label_dict[lbl] = len(label_dict)  \n",
    "        # Read the image file using OpenCV\n",
    "        img = cv2.imread(str(f))  \n",
    "        # Resize the image to the specified size\n",
    "        resized = cv2.resize(img, imgsize)  \n",
    "        # Flatten the resized image to a 1D array\n",
    "        flatimg = resized.flatten()  \n",
    "        # Append the flattened image data to the data list\n",
    "        data.append(flatimg)  \n",
    "        # Append the corresponding label integer to the labels list\n",
    "        labels.append(label_dict[lbl])  \n",
    "\n",
    "    return data, labels  "
   ]
  },
  {
   "cell_type": "markdown",
   "id": "b5853a84",
   "metadata": {},
   "source": [
    "### Load Train and Test Data"
   ]
  },
  {
   "cell_type": "code",
   "execution_count": 46,
   "metadata": {
    "id": "_vh-fDoLv78z"
   },
   "outputs": [],
   "source": [
    "X_train, y_train = load_data(TRAIN_PATH, IMG_SIZE)  # X: features, y: Labels\n",
    "X_test, y_test = load_data(TEST_PATH, IMG_SIZE)   "
   ]
  },
  {
   "cell_type": "markdown",
   "id": "a0c09180",
   "metadata": {},
   "source": [
    "### Model Prediction and Evaluation"
   ]
  },
  {
   "cell_type": "code",
   "execution_count": 47,
   "metadata": {
    "id": "Bx_R6BW8wOUF"
   },
   "outputs": [],
   "source": [
    "# Create a pipeline for data preprocessing and model training\n",
    "pipe = Pipeline([  \n",
    "        # The first step in the pipeline: Standardize features by removing the mean and scaling to unit variance\n",
    "        (\"scaler\", StandardScaler()),  \n",
    "        # The second step in the pipeline: Train a classifier using the XGBoost algorithm\n",
    "        # with specified parameters (1 estimator and verbosity level 2)\n",
    "        (\"xgb\", XGBClassifier(n_estimators=1, verbosity=2))  \n",
    "    ])   "
   ]
  },
  {
   "cell_type": "code",
   "execution_count": 48,
   "metadata": {
    "colab": {
     "base_uri": "https://localhost:8080/",
     "height": 126
    },
    "id": "fa8dYLUJwSvh",
    "outputId": "39be3259-390a-4648-f425-ac0dbcfa205b"
   },
   "outputs": [],
   "source": [
    "pipe.fit(X_train, y_train)   # Train on labeled data"
   ]
  },
  {
   "cell_type": "code",
   "execution_count": null,
   "metadata": {
    "id": "NySsZ4nMwUpe"
   },
   "outputs": [],
   "source": [
    "preds = pipe.predict(X_test)  # Predict (validated) unlabeled data"
   ]
  },
  {
   "cell_type": "code",
   "execution_count": null,
   "metadata": {
    "colab": {
     "base_uri": "https://localhost:8080/",
     "height": 758
    },
    "id": "kLlVaP52wmdA",
    "outputId": "84507080-2b6d-4146-8d00-4247b2d91494"
   },
   "outputs": [
    {
     "name": "stdout",
     "output_type": "stream",
     "text": [
      "                precision    recall  f1-score   support\n",
      "\n",
      "     alaskacod       0.45      0.50      0.48        10\n",
      "alaskanhalibut       0.00      0.00      0.00        10\n",
      "         other       0.75      0.50      0.60         6\n",
      "    pacificcod       0.40      0.80      0.53        10\n",
      "   petralesole       0.57      0.40      0.47        10\n",
      "      rockfish       0.25      0.10      0.14        10\n",
      "       tilapia       0.18      0.30      0.22        10\n",
      "\n",
      "      accuracy                           0.36        66\n",
      "     macro avg       0.37      0.37      0.35        66\n",
      "  weighted avg       0.35      0.36      0.33        66\n",
      "\n"
     ]
    },
    {
     "data": {
      "image/png": "[encoded data removed]",
      "text/plain": [
       "<Figure size 640x480 with 2 Axes>"
      ]
     },
     "metadata": {},
     "output_type": "display_data"
    }
   ],
   "source": [
    "cm = confusion_matrix(y_test, preds)  # a specific table layout that allows visualization of the performance of an algorithm\n",
    "print(classification_report(y_test, preds, target_names=LABELS))  \n",
    "disp = ConfusionMatrixDisplay(cm, display_labels=LABELS)  \n",
    "disp.plot(xticks_rotation=\"vertical\")  \n",
    "plt.tight_layout()  \n",
    "plt.show()  # Plot predictions, a good result should have a diagonal from top left to bottom right"
   ]
  },
  {
   "cell_type": "markdown",
   "metadata": {},
   "source": [
    "Model accuracy defined by number of correct guesses vs incorrect guesses."
   ]
  },
  {
   "cell_type": "markdown",
   "id": "9ebdf833",
   "metadata": {},
   "source": [
    "### Convert Trained Model to ONNX for Applications."
   ]
  },
  {
   "cell_type": "markdown",
   "metadata": {},
   "source": [
    "ONNX lets us package the trained python models optimized for runtime applications (e.g. web applications)"
   ]
  },
  {
   "cell_type": "code",
   "execution_count": null,
   "metadata": {
    "id": "-jA8wFm4xwAF"
   },
   "outputs": [],
   "source": [
    "from onnxconverter_common import FloatTensorType  \n",
    "from onnxmltools.convert.xgboost.operator_converters.XGBoost import convert_xgboost  \n",
    "from skl2onnx import update_registered_converter, convert_sklearn  \n",
    "from skl2onnx.common.shape_calculator import calculate_linear_classifier_output_shapes  "
   ]
  },
  {
   "cell_type": "code",
   "execution_count": null,
   "metadata": {
    "id": "0yDBzgnNxl3s"
   },
   "outputs": [],
   "source": [
    "# Define options for the converter\n",
    "opts = {\n",
    "    \"nocl\": [True, False],  # Option for 'nocl': Indicates whether to use 'no class labels' in the output\n",
    "    \"zipmap\": [True, False, \"columns\"],  # Option for 'zipmap': Determines how to output class probabilities, \n",
    "                                         # either as a dictionary (True), array (False), or as columns (\"columns\")\n",
    "    \"output_class_labels\": [True, False]  # Option for 'output_class_labels': Indicates whether to output class labels\n",
    "}\n",
    "\n",
    "# Update or register a new converter for XGBClassifier with the ONNX converter\n",
    "update_registered_converter(\n",
    "    XGBClassifier,  # The scikit-learn classifier class that we want to convert to ONNX\n",
    "    \"XGBoostXGBClassifier\",  # The name for the converter (as registered in ONNX)\n",
    "    calculate_linear_classifier_output_shapes,  # Function to calculate the output shape of the converted model\n",
    "    convert_xgboost,  # Function that defines how to convert the classifier to an ONNX model\n",
    "    options=opts,  # Passing the options defined above to customize the conversion process\n",
    ")"
   ]
  },
  {
   "cell_type": "code",
   "execution_count": null,
   "metadata": {
    "id": "hcLEEBAkyX4h"
   },
   "outputs": [],
   "source": [
    "# Convert the scikit-learn pipeline to ONNX format\n",
    "model_onnx = convert_sklearn(\n",
    "    pipe,  # The scikit-learn model or pipeline to convert, here 'pipe' refers to a predefined pipeline\n",
    "    \"fishazam-xgboost-classifier\",  # Name for the ONNX model\n",
    "    [(\"input\", FloatTensorType([1, FLAT_IMG_SIZE]))],  # Define the model input name and type\n",
    "    # 'input' is the name of the input tensor,\n",
    "    # FloatTensorType([1, FLAT_IMG_SIZE]) specifies the data type and shape of the input tensor\n",
    "    target_opset={\"\": 12, \"ai.onnx.ml\": 2},  # Specify the target ONNX operator set versions\n",
    "    # \"\" refers to the default ONNX domain, with version 12\n",
    "    # \"ai.onnx.ml\" refers to the machine learning domain, with version 2\n",
    "    options={id(pipe): {\"zipmap\": False, \"output_class_labels\": False, \"nocl\": True}}\n",
    "    # Set conversion options for the pipeline\n",
    "    # \"zipmap\": False - Do not convert class probabilities to a dictionary format\n",
    "    # \"output_class_labels\": False - Do not output the class labels\n",
    "    # \"nocl\": True - Indicate that there are no class labels in the output\n",
    ")"
   ]
  },
  {
   "cell_type": "code",
   "execution_count": null,
   "metadata": {
    "colab": {
     "base_uri": "https://localhost:8080/",
     "height": 17
    },
    "id": "Jzp-Z28HyrBu",
    "outputId": "d9ff7cc1-30f2-4fe0-c82a-1107783804ae"
   },
   "outputs": [],
   "source": [
    "with open(\"fishazam-xgboost-classifier.onnx\", \"wb\") as f: # Save the trained model compilation.\n",
    "    f.write(model_onnx.SerializeToString())  \n",
    "\n",
    "#files.download(\"fishazam-xgboost-classifier.onnx\") # (colab call to download the file to your machine)"
   ]
  },
  {
   "cell_type": "markdown",
   "metadata": {},
   "source": [
    "### Your model file should be outputted to the same folder as this project on local machines, which can now be uploaded to ONNX Runtime applications."
   ]
  },
  {
   "cell_type": "markdown",
   "metadata": {},
   "source": [
    "Use [https://netron.app/](https://netron.app/) to evaluate the ONNX outputs. You need to format i/o into tensors with specific buffer types which are limited to:\n",
    "\n",
    "- bool\n",
    "- float16\n",
    "- float32\n",
    "- float64\n",
    "- int16\n",
    "- int32\n",
    "- int8\n",
    "- string\n",
    "- uint16\n",
    "- uint32\n",
    "- uint64\n",
    "- uint8"
   ]
  }
 ],
 "metadata": {
  "colab": {
   "provenance": []
  },
  "kernelspec": {
   "display_name": "Python 3",
   "name": "python3"
  },
  "language_info": {
   "codemirror_mode": {
    "name": "ipython",
    "version": 3
   },
   "file_extension": ".py",
   "mimetype": "text/x-python",
   "name": "python",
   "nbconvert_exporter": "python",
   "pygments_lexer": "ipython3",
   "version": "3.11.7"
  }
 },
 "nbformat": 4,
 "nbformat_minor": 0
}
